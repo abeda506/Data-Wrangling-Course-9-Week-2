{
 "cells": [
  {
   "cell_type": "markdown",
   "id": "7ef810b9",
   "metadata": {},
   "source": [
    "# Data Wrangling Lab"
   ]
  },
  {
   "cell_type": "markdown",
   "id": "a6568e9a",
   "metadata": {},
   "source": [
    "Import data module"
   ]
  },
  {
   "cell_type": "code",
   "execution_count": 1,
   "id": "3df8ee48",
   "metadata": {},
   "outputs": [],
   "source": [
    "import pandas as pd"
   ]
  },
  {
   "cell_type": "markdown",
   "id": "d4dc904c",
   "metadata": {},
   "source": [
    "Load the dataset into a dataframe"
   ]
  },
  {
   "cell_type": "code",
   "execution_count": 5,
   "id": "3f20ce5d",
   "metadata": {},
   "outputs": [
    {
     "data": {
      "text/plain": [
       "(11552, 85)"
      ]
     },
     "execution_count": 5,
     "metadata": {},
     "output_type": "execute_result"
    }
   ],
   "source": [
    "df = pd.read_csv(\"https://cf-courses-data.s3.us.cloud-object-storage.appdomain.cloud/IBM-DA0321EN-SkillsNetwork/LargeData/m1_survey_data.csv\")\n",
    "df.shape"
   ]
  },
  {
   "cell_type": "markdown",
   "id": "1bb13e5b",
   "metadata": {},
   "source": [
    "## Finding duplicates"
   ]
  },
  {
   "cell_type": "markdown",
   "id": "33473f8f",
   "metadata": {},
   "source": [
    "Find how many duplicates row exists in the dataframe"
   ]
  },
  {
   "cell_type": "code",
   "execution_count": 6,
   "id": "33027d96",
   "metadata": {},
   "outputs": [
    {
     "data": {
      "text/plain": [
       "154"
      ]
     },
     "execution_count": 6,
     "metadata": {},
     "output_type": "execute_result"
    }
   ],
   "source": [
    "df.duplicated().sum()"
   ]
  },
  {
   "cell_type": "markdown",
   "id": "ce2f8fdc",
   "metadata": {},
   "source": [
    "## Removing duplicates"
   ]
  },
  {
   "cell_type": "markdown",
   "id": "1a770cbb",
   "metadata": {},
   "source": [
    "Remove the duplicate rows from the dataframe"
   ]
  },
  {
   "cell_type": "code",
   "execution_count": 7,
   "id": "dbed9bd3",
   "metadata": {},
   "outputs": [],
   "source": [
    "# df_new is used with no duplicates\n",
    "\n",
    "df_new=df.drop_duplicates()"
   ]
  },
  {
   "cell_type": "markdown",
   "id": "0234f4d6",
   "metadata": {},
   "source": [
    "Verify if duplicates were actually dropped"
   ]
  },
  {
   "cell_type": "code",
   "execution_count": 8,
   "id": "ffd8e562",
   "metadata": {},
   "outputs": [
    {
     "data": {
      "text/plain": [
       "(11398, 85)"
      ]
     },
     "execution_count": 8,
     "metadata": {},
     "output_type": "execute_result"
    }
   ],
   "source": [
    "#Shape defines the new number of rows\n",
    "df_new.shape"
   ]
  },
  {
   "cell_type": "markdown",
   "id": "d9e4d5f9",
   "metadata": {},
   "source": [
    "## Finding Missing values"
   ]
  },
  {
   "cell_type": "markdown",
   "id": "55fe8e1a",
   "metadata": {},
   "source": [
    "Find the missing values for all columns"
   ]
  },
  {
   "cell_type": "code",
   "execution_count": 9,
   "id": "753a1cc6",
   "metadata": {},
   "outputs": [
    {
     "data": {
      "text/plain": [
       "Respondent        0\n",
       "MainBranch        0\n",
       "Hobbyist          0\n",
       "OpenSourcer       0\n",
       "OpenSource       81\n",
       "               ... \n",
       "Sexuality       542\n",
       "Ethnicity       675\n",
       "Dependents      140\n",
       "SurveyLength     19\n",
       "SurveyEase       14\n",
       "Length: 85, dtype: int64"
      ]
     },
     "execution_count": 9,
     "metadata": {},
     "output_type": "execute_result"
    }
   ],
   "source": [
    "df_new.isnull().sum()"
   ]
  },
  {
   "cell_type": "markdown",
   "id": "503152f1",
   "metadata": {},
   "source": [
    "Find out how mnay roaws are missing in the column 'Workloc'"
   ]
  },
  {
   "cell_type": "code",
   "execution_count": 10,
   "id": "98bdd1cc",
   "metadata": {},
   "outputs": [
    {
     "data": {
      "text/plain": [
       "32"
      ]
     },
     "execution_count": 10,
     "metadata": {},
     "output_type": "execute_result"
    }
   ],
   "source": [
    "df_new['WorkLoc'].isnull().sum()"
   ]
  },
  {
   "cell_type": "markdown",
   "id": "cad34cba",
   "metadata": {},
   "source": [
    "## Imputing missing values"
   ]
  },
  {
   "cell_type": "markdown",
   "id": "9437f03d",
   "metadata": {},
   "source": [
    "Find the value counts for the column WorkLoc:"
   ]
  },
  {
   "cell_type": "code",
   "execution_count": 11,
   "id": "9b24968e",
   "metadata": {},
   "outputs": [
    {
     "data": {
      "text/plain": [
       "Office                                            6806\n",
       "Home                                              3589\n",
       "Other place, such as a coworking space or cafe     971\n",
       "Name: WorkLoc, dtype: int64"
      ]
     },
     "execution_count": 11,
     "metadata": {},
     "output_type": "execute_result"
    }
   ],
   "source": [
    "df_new['WorkLoc'].value_counts()"
   ]
  },
  {
   "cell_type": "markdown",
   "id": "5339129a",
   "metadata": {},
   "source": [
    "Identify the value that is most frequent in the WorkLoc column"
   ]
  },
  {
   "cell_type": "code",
   "execution_count": 12,
   "id": "f5775fc4",
   "metadata": {},
   "outputs": [
    {
     "data": {
      "text/plain": [
       "'Office'"
      ]
     },
     "execution_count": 12,
     "metadata": {},
     "output_type": "execute_result"
    }
   ],
   "source": [
    "df_new['WorkLoc'].value_counts().idxmax()"
   ]
  },
  {
   "cell_type": "markdown",
   "id": "b4a2f55d",
   "metadata": {},
   "source": [
    "Impute (replace)all the empty rows in the column WorkLoc with the value that you have identified as majority"
   ]
  },
  {
   "cell_type": "code",
   "execution_count": 13,
   "id": "6f5ab433",
   "metadata": {},
   "outputs": [
    {
     "name": "stderr",
     "output_type": "stream",
     "text": [
      "C:\\Users\\abeda\\AppData\\Local\\Temp\\ipykernel_35080\\3491435391.py:1: SettingWithCopyWarning: \n",
      "A value is trying to be set on a copy of a slice from a DataFrame\n",
      "\n",
      "See the caveats in the documentation: https://pandas.pydata.org/pandas-docs/stable/user_guide/indexing.html#returning-a-view-versus-a-copy\n",
      "  df_new['WorkLoc'].fillna('Office',inplace=True)\n"
     ]
    }
   ],
   "source": [
    "df_new['WorkLoc'].fillna('Office',inplace=True)"
   ]
  },
  {
   "cell_type": "markdown",
   "id": "417aea47",
   "metadata": {},
   "source": [
    "After imputation there should ideally not be any empty roaws in the WorkLoc column. Verify if imputing was successful"
   ]
  },
  {
   "cell_type": "code",
   "execution_count": 15,
   "id": "8145b4bd",
   "metadata": {},
   "outputs": [
    {
     "data": {
      "text/plain": [
       "0"
      ]
     },
     "execution_count": 15,
     "metadata": {},
     "output_type": "execute_result"
    }
   ],
   "source": [
    "df_new['WorkLoc'].isnull().sum()"
   ]
  },
  {
   "cell_type": "markdown",
   "id": "89944820",
   "metadata": {},
   "source": [
    "## Normalizing Data"
   ]
  },
  {
   "cell_type": "markdown",
   "id": "39dd73ff",
   "metadata": {},
   "source": [
    "List out the various categories in the column 'CompFreq'"
   ]
  },
  {
   "cell_type": "code",
   "execution_count": 16,
   "id": "e3367b50",
   "metadata": {},
   "outputs": [
    {
     "data": {
      "text/plain": [
       "array(['Yearly', 'Monthly', 'Weekly', nan], dtype=object)"
      ]
     },
     "execution_count": 16,
     "metadata": {},
     "output_type": "execute_result"
    }
   ],
   "source": [
    "df_new['CompFreq'].unique()"
   ]
  },
  {
   "cell_type": "markdown",
   "id": "d2017779",
   "metadata": {},
   "source": [
    "Create a new column named 'NormalizedAnnualCompensation'. Use the hint given below if needed. "
   ]
  },
  {
   "cell_type": "code",
   "execution_count": 20,
   "id": "ddb8ba45",
   "metadata": {},
   "outputs": [
    {
     "data": {
      "text/html": [
       "<div>\n",
       "<style scoped>\n",
       "    .dataframe tbody tr th:only-of-type {\n",
       "        vertical-align: middle;\n",
       "    }\n",
       "\n",
       "    .dataframe tbody tr th {\n",
       "        vertical-align: top;\n",
       "    }\n",
       "\n",
       "    .dataframe thead th {\n",
       "        text-align: right;\n",
       "    }\n",
       "</style>\n",
       "<table border=\"1\" class=\"dataframe\">\n",
       "  <thead>\n",
       "    <tr style=\"text-align: right;\">\n",
       "      <th></th>\n",
       "      <th>NormalizedAnnualCompensation</th>\n",
       "    </tr>\n",
       "  </thead>\n",
       "  <tbody>\n",
       "    <tr>\n",
       "      <th>0</th>\n",
       "      <td>61000.0</td>\n",
       "    </tr>\n",
       "    <tr>\n",
       "      <th>1</th>\n",
       "      <td>138000.0</td>\n",
       "    </tr>\n",
       "    <tr>\n",
       "      <th>2</th>\n",
       "      <td>90000.0</td>\n",
       "    </tr>\n",
       "    <tr>\n",
       "      <th>3</th>\n",
       "      <td>348000.0</td>\n",
       "    </tr>\n",
       "    <tr>\n",
       "      <th>4</th>\n",
       "      <td>90000.0</td>\n",
       "    </tr>\n",
       "    <tr>\n",
       "      <th>...</th>\n",
       "      <td>...</td>\n",
       "    </tr>\n",
       "    <tr>\n",
       "      <th>11547</th>\n",
       "      <td>130000.0</td>\n",
       "    </tr>\n",
       "    <tr>\n",
       "      <th>11548</th>\n",
       "      <td>74400.0</td>\n",
       "    </tr>\n",
       "    <tr>\n",
       "      <th>11549</th>\n",
       "      <td>105000.0</td>\n",
       "    </tr>\n",
       "    <tr>\n",
       "      <th>11550</th>\n",
       "      <td>80000.0</td>\n",
       "    </tr>\n",
       "    <tr>\n",
       "      <th>11551</th>\n",
       "      <td>NaN</td>\n",
       "    </tr>\n",
       "  </tbody>\n",
       "</table>\n",
       "<p>11552 rows × 1 columns</p>\n",
       "</div>"
      ],
      "text/plain": [
       "       NormalizedAnnualCompensation\n",
       "0                           61000.0\n",
       "1                          138000.0\n",
       "2                           90000.0\n",
       "3                          348000.0\n",
       "4                           90000.0\n",
       "...                             ...\n",
       "11547                      130000.0\n",
       "11548                       74400.0\n",
       "11549                      105000.0\n",
       "11550                       80000.0\n",
       "11551                           NaN\n",
       "\n",
       "[11552 rows x 1 columns]"
      ]
     },
     "execution_count": 20,
     "metadata": {},
     "output_type": "execute_result"
    }
   ],
   "source": [
    "anncomp=[]\n",
    "def NAC():\n",
    "    for x,y in zip(df['CompFreq'], df['CompTotal']):\n",
    "        if x=='Monthly':\n",
    "            anncomp.append(y*12)\n",
    "        elif x=='Weekly':\n",
    "            anncomp.append(y*52)\n",
    "        else:\n",
    "            anncomp.append(y)\n",
    "NAC()\n",
    "          \n",
    "df['NormalizedAnnualCompensation']=anncomp\n",
    "df[['NormalizedAnnualCompensation']]"
   ]
  },
  {
   "cell_type": "code",
   "execution_count": null,
   "id": "49d6550b",
   "metadata": {},
   "outputs": [],
   "source": []
  }
 ],
 "metadata": {
  "kernelspec": {
   "display_name": "Python 3 (ipykernel)",
   "language": "python",
   "name": "python3"
  },
  "language_info": {
   "codemirror_mode": {
    "name": "ipython",
    "version": 3
   },
   "file_extension": ".py",
   "mimetype": "text/x-python",
   "name": "python",
   "nbconvert_exporter": "python",
   "pygments_lexer": "ipython3",
   "version": "3.10.9"
  }
 },
 "nbformat": 4,
 "nbformat_minor": 5
}
